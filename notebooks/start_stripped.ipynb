{
 "cells": [
  {
   "cell_type": "code",
   "execution_count": null,
   "id": "317512b7",
   "metadata": {},
   "outputs": [],
   "source": [
    "from caveclient import CAVEclient\n",
    "import pandas as pd\n",
    "import numpy as np\n",
    "from matplotlib import pyplot as plt\n",
    "%matplotlib inline"
   ]
  },
  {
   "cell_type": "code",
   "execution_count": null,
   "id": "d7c87d81",
   "metadata": {},
   "outputs": [],
   "source": [
    "client = CAVEclient(global_only=True)"
   ]
  },
  {
   "cell_type": "code",
   "execution_count": null,
   "id": "be390764",
   "metadata": {},
   "outputs": [],
   "source": [
    "# https://annotationframeworkclient.readthedocs.io/en/stable/guide/authentication.html#new-token\n",
    "client = CAVEclient('minnie65_phase3_v1')\n",
    "client.info.get_datastack_info()"
   ]
  },
  {
   "cell_type": "code",
   "execution_count": null,
   "id": "dc911e14",
   "metadata": {},
   "outputs": [],
   "source": [
    "#client.auth.get_new_token()"
   ]
  },
  {
   "cell_type": "code",
   "execution_count": null,
   "id": "a569facd",
   "metadata": {},
   "outputs": [],
   "source": [
    "# \"the token is saved to ~/.cloudvolume/secrets/chunkedgraph-secret.json as a string under the key token\"\n",
    "# pls don't regenerate\n",
    "#client.auth.save_token(token=\"cbf0c535f12057f40e895d1d04dcf79e\",overwrite=True)"
   ]
  },
  {
   "cell_type": "code",
   "execution_count": null,
   "id": "51e7b995",
   "metadata": {},
   "outputs": [],
   "source": [
    "client.materialize.get_tables()"
   ]
  },
  {
   "cell_type": "code",
   "execution_count": null,
   "id": "21ada8d8-382b-43d6-93f6-8fa632d5cf16",
   "metadata": {},
   "outputs": [],
   "source": [
    "client.materialize.get_table_metadata('allen_soma_coarse_cell_class_model_v1')"
   ]
  },
  {
   "cell_type": "code",
   "execution_count": null,
   "id": "1290d865-0b7a-4e97-a7e1-285b38ae4b6b",
   "metadata": {},
   "outputs": [],
   "source": [
    "client.materialize.get_table_metadata('nucleus_neuron_svm')"
   ]
  },
  {
   "cell_type": "markdown",
   "id": "d41afbf4-b4c8-49d0-8262-5fe5019f6cd6",
   "metadata": {},
   "source": [
    "    Summary:\n",
    "    \n",
    "    - allen_v1_column_types_slanted have been manually examined for cell type\n",
    "\n",
    "    - synapses_pni_2 is a table of the locations of a target cell's synapse according to its input cell\n",
    "\n",
    "    - allen_soma_coarse_cell_class_model_v1 and v2 is 99% pre-proofread and has the location of all cell bodies in the dataset - difference is that v1 has specific cell types, while v2 is just excitatory/inhibitory\n",
    "\n",
    "    - nucleus_neuron_svm is a table where each row represents a soma\n",
    "\n",
    "    positions can be copied n pasted into neuroglancer!\n",
    "    \n",
    "In order to access these tables, query_table will download the whole thing, unless any of the 3 filters are applied:\n",
    "\n",
    "- filter_equal_dict : returns a row only if it contains specified value\n",
    "- filter_in_dict : returns a row only if its value is within allowed constraint\n",
    "- filter_not_in_dict : returns a row only if its value is NOT within allowed constraint\n",
    "\n",
    "further, you can use select_columns = ['id','pre_pt_root_id', 'pre_pt_position'] if you only want those columns, and split_columns=True if you want position to be split into x, y, and z columns (and recombined with concatenate_position_columns())"
   ]
  },
  {
   "cell_type": "code",
   "execution_count": null,
   "id": "12b2b77c",
   "metadata": {},
   "outputs": [],
   "source": [
    "#materialization engine - v120 most recent - 1 exact timestamp\n",
    "df = client.materialize.query_table('allen_v1_column_types_slanted')\n",
    "#client.materialize.query_table? #- a fun way to get info about panda command + args \n",
    "df[0:3]"
   ]
  },
  {
   "cell_type": "code",
   "execution_count": null,
   "id": "6ac16491",
   "metadata": {},
   "outputs": [],
   "source": [
    "np.unique(df.classification_system)"
   ]
  },
  {
   "cell_type": "markdown",
   "id": "1204d0e4-3455-4e22-a021-1fa073fa8402",
   "metadata": {},
   "source": [
    "### Cell type key:\n",
    "\n",
    "    Number refers to layer, P refers to pyramidal (broadly), IT = intertelencephalon\n",
    "\n",
    "output cells =\n",
    "- NP = near-projecting (spooky) (spider) (im scared)\n",
    "- PT = pyramidal tract\n",
    "- CT = cortico-thalamic, projects to the thalamus (sensory->thalamus->cortex->loops)\n",
    "- BC = basket-cell (primarily target the cell body of excitatory neurons), strategically positioned to control spiking and strongly interconnected\n",
    "- BPC = bipolar cell (VIP = molecular term, dendrites goin up n down) (controls SST) (only some target E), 15% of all interneurons, gain control\n",
    "- MC = Martinotti (SST = molec term) (primary source of inhib.) targetting distill dendrites & apocal dend., powerful boys, project to layer 1 mediate di-synaptic inhibition between neighboring pyramidal cells\n",
    "- NGC = neurogliaform cell (instead of pre/post-synaptic, they do volume transmission) spewing GABA, no specific target, (meh categorization)"
   ]
  },
  {
   "cell_type": "code",
   "execution_count": null,
   "id": "588e35c1-d838-47fe-a9d7-c75ee117c17e",
   "metadata": {},
   "outputs": [],
   "source": [
    "np.unique(df.cell_type)"
   ]
  },
  {
   "cell_type": "markdown",
   "id": "0b28891f-4442-41cf-9167-f190dce8f7fc",
   "metadata": {},
   "source": [
    "## Working with a Starter Neuron\n",
    "\n",
    "    We'll be using a basket cell, as they are well-proofread with a large axon."
   ]
  },
  {
   "cell_type": "code",
   "execution_count": null,
   "id": "69e8c9ed",
   "metadata": {},
   "outputs": [],
   "source": [
    "root_id = [864691135428608048]\n",
    "boy = df.query(\"pt_root_id in @root_id\")\n",
    "boy"
   ]
  },
  {
   "cell_type": "markdown",
   "id": "01a2c6db-2f4d-4250-91e3-3d3107e3d2cc",
   "metadata": {},
   "source": [
    "    Now to look for all cells where the pre-synaptic partner has the same root_id as our start cell..."
   ]
  },
  {
   "cell_type": "code",
   "execution_count": null,
   "id": "77cda198",
   "metadata": {},
   "outputs": [],
   "source": [
    "syn = client.materialize.query_table('synapses_pni_2',filter_equal_dict={'pre_pt_root_id':root_id[0]})\n",
    "syn[0:3]"
   ]
  },
  {
   "cell_type": "markdown",
   "id": "a56c30d7-3ab2-407b-b619-647d31b0b134",
   "metadata": {},
   "source": [
    "#### synapses table key:\n",
    "\n",
    "- pre_pt_root_id = pre-synaptic (input cell) we selected for\n",
    "- post_pt_root_id = post-synaptic cell that the queried cell connects to\n",
    "- size = volume of synapse in units of supervoxels (most of the time is proportional to strength/weight)\n",
    "\n",
    "#### synapse has 3 pts associated: \n",
    "- 1 just inside the pre-syn side of synapse (on dendrites)\n",
    "- 1 is just inside the post-syn\n",
    "- 1 is center point"
   ]
  },
  {
   "cell_type": "code",
   "execution_count": null,
   "id": "7d9572a6",
   "metadata": {},
   "outputs": [],
   "source": [
    "unique_syn = np.unique(syn.post_pt_root_id)\n",
    "print(\"There are {0:g} synaptic connections from {1:g} cells.\".format(len(syn),len(unique_syn)))"
   ]
  },
  {
   "cell_type": "markdown",
   "id": "2526aa38-4e9b-4f5b-9d1c-0476f6c7835e",
   "metadata": {},
   "source": [
    "    Now we're going to query the nuclei table, so that we have access to the position of the somas whose dendrites have the post-synaptic connections we just found."
   ]
  },
  {
   "cell_type": "code",
   "execution_count": null,
   "id": "b298e982-e470-48f1-b9c0-ea0670d5e62c",
   "metadata": {},
   "outputs": [],
   "source": [
    "# edge-list network representation\n",
    "# for each root_id, how many synapses are there?\n",
    "#edgelist = syn_df.groupby([‘pre_pt_root_id’, ‘post_pt_root_id’]).count()[‘valid’]).reset_index()\n",
    "#edgelist = syn_df.groupby([‘pre_pt_root_id’, ‘post_pt_root_id’]).count()[‘valid’]).reset_index().rename(columns={‘valid’: ‘num_syn’})"
   ]
  },
  {
   "cell_type": "code",
   "execution_count": null,
   "id": "a9e19990-cae7-4014-9a30-5aa047d76e5c",
   "metadata": {},
   "outputs": [],
   "source": [
    "nuclei_unmasked = client.materialize.query_table('nucleus_neuron_svm')#,filter_in_dict = {'pt_root_id':unique_syn})\n",
    "# new df of just neurons (no glial cells)\n",
    "nuclei = nuclei_unmasked.query('cell_type == \"neuron\"').reset_index(drop=True)\n",
    "# new column saying how many neurons have the same root_id\n",
    "nuclei['num_soma'] = nuclei.groupby('pt_root_id').transform('count')['valid']\n",
    "# mask the df to throw out merged nuclei (same root_id being assigned to multiple neurons)\n",
    "mask_nuclei = nuclei['num_soma'] < 2\n",
    "nuclei_full = nuclei[mask_nuclei].reset_index(drop=True)"
   ]
  },
  {
   "cell_type": "code",
   "execution_count": null,
   "id": "3877e4f5-32e0-4596-a726-6caa53f3713b",
   "metadata": {},
   "outputs": [],
   "source": [
    "unique_nuc = np.unique(nuclei_full.pt_root_id)\n",
    "soma_full = client.materialize.query_table('allen_soma_coarse_cell_class_model_v1',filter_in_dict = {'pt_root_id':unique_nuc})\n",
    "unique_soma = np.unique(soma_full.pt_root_id)"
   ]
  },
  {
   "cell_type": "code",
   "execution_count": null,
   "id": "36e4085b-123e-4b73-9c64-2975cf006be1",
   "metadata": {},
   "outputs": [],
   "source": [
    "print(len(nuclei_full))\n",
    "print(len(soma_full))"
   ]
  },
  {
   "cell_type": "code",
   "execution_count": null,
   "id": "25e79494-a31a-45e9-a8b8-d98ca8be5ad0",
   "metadata": {},
   "outputs": [],
   "source": [
    "syn_nuc = syn.query(\"post_pt_root_id in @unique_nuc\").reset_index(drop=True)\n",
    "syn_soma = syn.query(\"post_pt_root_id in @unique_soma\").reset_index(drop=True)"
   ]
  },
  {
   "cell_type": "code",
   "execution_count": null,
   "id": "e14da9f3-67d7-49e0-b1d5-1016a7a4952b",
   "metadata": {},
   "outputs": [],
   "source": [
    "print(len(syn_nuc))\n",
    "print(len(np.unique(syn_nuc.post_pt_root_id)))\n",
    "print(len(syn_soma))\n",
    "print(len(np.unique(syn_soma.post_pt_root_id)))"
   ]
  },
  {
   "cell_type": "code",
   "execution_count": null,
   "id": "ac0ec884-6ad0-4115-895e-b610cb549cd1",
   "metadata": {},
   "outputs": [],
   "source": [
    "unique_syn_nuc = np.unique(syn_nuc.post_pt_root_id)\n",
    "unique_syn_soma = np.unique(syn_soma.post_pt_root_id)"
   ]
  },
  {
   "cell_type": "code",
   "execution_count": null,
   "id": "8c7b8809",
   "metadata": {},
   "outputs": [],
   "source": [
    "# don't do this - query the large table for all valid nuclei, then say whether its T/F if connected to boy\n",
    "# need to query another table that actually has cell types\n",
    "post_nuclei = client.materialize.query_table('allen_soma_coarse_cell_class_model_v1',filter_in_dict = {'pt_root_id':unique_syn_nuc})\n",
    "post_somas = client.materialize.query_table('allen_soma_coarse_cell_class_model_v1',filter_in_dict = {'pt_root_id':unique_syn_soma})\n",
    "# not many will be in here bc of proofreading stuff\n",
    "post_slant = client.materialize.query_table('allen_v1_column_types_slanted',filter_in_dict = {'pt_root_id':unique_syn_soma})"
   ]
  },
  {
   "cell_type": "code",
   "execution_count": null,
   "id": "7854340f-99b5-4032-a3d9-3efc41f94837",
   "metadata": {},
   "outputs": [],
   "source": [
    "def class_spitter(df):\n",
    "    classes = np.unique(df.classification_system)\n",
    "    cellarray = []\n",
    "    for i in range(len(classes)):\n",
    "        new = df.query(f\"classification_system in @classes[{i}]\")\n",
    "        cellarray.append(new)\n",
    "    return cellarray\n",
    "\n",
    "def type_spitter(df):\n",
    "    types = np.unique(df.cell_type)\n",
    "    cellarray = []\n",
    "    for i in range(len(types)):\n",
    "        new = df.query(f\"cell_type in @types[{i}]\")\n",
    "        cellarray.append(new)\n",
    "    return cellarray"
   ]
  },
  {
   "cell_type": "code",
   "execution_count": null,
   "id": "bdadd687-d57b-478a-8c02-f3fe02764a3d",
   "metadata": {},
   "outputs": [],
   "source": [
    "post_slant_class = class_spitter(post_slant)\n",
    "post_som_class = class_spitter(post_somas)\n",
    "post_nuc_class = class_spitter(post_nuclei)\n",
    "\n",
    "post_slant_type = type_spitter(post_slant)\n",
    "post_som_type = type_spitter(post_somas)\n",
    "post_nuc_type = type_spitter(post_nuclei)"
   ]
  },
  {
   "cell_type": "markdown",
   "id": "93795888-46a8-48b8-a8f8-ce93dfa7df86",
   "metadata": {},
   "source": [
    "    \"Distance in the y dimension (depth) is quite different from x and z (radial directions). For example, cell types often live specifically at a particular depth, but are scattered widely across the x and z dimensions.\""
   ]
  },
  {
   "cell_type": "code",
   "execution_count": null,
   "id": "07108c2d-ab02-4d7a-afad-88fbe13178ae",
   "metadata": {},
   "outputs": [],
   "source": [
    "def Eucdistance(pre,post):\n",
    "    pre_pt = np.array(pre.pt_position) * 4\n",
    "    x_pre,y_pre,z_pre = pre_pt[0][0],pre_pt[0][1],pre_pt[0][2]*10\n",
    "\n",
    "    post_pt = post.pt_position.reset_index(drop=True)\n",
    "    x_pos,y_pos,z_pos = np.zeros(len(post_pt)),np.zeros(len(post_pt)),np.zeros(len(post_pt))\n",
    "    for i in range(len(post_pt)):\n",
    "        x_pos[i] = post_pt[i][0] * 4\n",
    "        y_pos[i] = post_pt[i][1] * 4\n",
    "        z_pos[i] = post_pt[i][2] * 40\n",
    "    \n",
    "    d = np.zeros(len(post_pt))\n",
    "    for i in range(len(post_pt)):\n",
    "        d[i] = np.sqrt((x_pre-x_pos[i])**2 + (y_pre-y_pos[i])**2 + (z_pre-z_pos[i])**2)\n",
    "    \n",
    "    return d\n",
    "\n",
    "def Raddistance(pre,post):\n",
    "    pre_pt = np.array(pre.pt_position) * 4\n",
    "    x_pre,z_pre = pre_pt[0][0],pre_pt[0][2]*10\n",
    "\n",
    "    post_pt = post.pt_position.reset_index(drop=True)\n",
    "    x_pos,z_pos = np.zeros(len(post_pt)),np.zeros(len(post_pt))\n",
    "    for i in range(len(post_pt)):\n",
    "        x_pos[i] = post_pt[i][0] * 4\n",
    "        z_pos[i] = post_pt[i][2] * 40\n",
    "    \n",
    "    d = np.zeros(len(post_pt))\n",
    "    for i in range(len(post_pt)):\n",
    "        d[i] = np.sqrt((x_pre-x_pos[i])**2 + (z_pre-z_pos[i])**2)\n",
    "    \n",
    "    return d\n",
    "\n",
    "def distance(pre,post):\n",
    "    d,r = [],[]\n",
    "    for i in range(len(post)):\n",
    "        # divide by 1,000 to convert nm to microns\n",
    "        d_oneclass = Eucdistance(pre,post[i])/1000.\n",
    "        d.append(d_oneclass)\n",
    "        r_oneclass = Raddistance(pre,post[i])/1000.\n",
    "        r.append(r_oneclass)\n",
    "    return d,r"
   ]
  },
  {
   "cell_type": "code",
   "execution_count": null,
   "id": "1d8f20f7-0354-4d27-84ad-15076adf325b",
   "metadata": {},
   "outputs": [],
   "source": [
    "slant_d_class,slant_r_class = distance(boy,post_slant_class)\n",
    "som_d_class,som_r_class = distance(boy,post_som_class)\n",
    "nuc_d_class,nuc_r_class = distance(boy,post_nuc_class)\n",
    "\n",
    "slant_d_type,slant_r_type = distance(boy,post_slant_type)\n",
    "som_d_type,som_r_type = distance(boy,post_som_type)\n",
    "nuc_d_type,nuc_r_type = distance(boy,post_nuc_type)"
   ]
  },
  {
   "cell_type": "code",
   "execution_count": null,
   "id": "38abc08e-7926-4d9c-8234-e20556825b61",
   "metadata": {},
   "outputs": [],
   "source": [
    "total = len(slant_d_class[0])+len(slant_d_class[1])#+len(slant_d_class[2])\n",
    "print(\"{0:.2%} of proofread post-synaptic partners are excitatory,\".format(len(slant_d_class[0])/total))\n",
    "print(\"{0:.2%} are inhibitory.\\n\".format(len(slant_d_class[1])/total))\n",
    "#print(\"{0:.2%} are unknown.\\n\".format(len(slant_d_class[2])/total))\n",
    "\n",
    "total_som = len(som_d_class[0])+len(som_d_class[1])\n",
    "print(\"{0:.2%} of un-proofread post-synaptic partners are excitatory,\".format(len(som_d_class[0])/total_som))\n",
    "print(\"{0:.2%} are inhibitory. (from soma table)\\n\".format(len(som_d_class[1])/total_som))\n",
    "\n",
    "total_nuc = len(nuc_d_class[0])+len(nuc_d_class[1])\n",
    "print(\"{0:.2%} of un-proofread post-synaptic partners are excitatory,\".format(len(nuc_d_class[0])/total_nuc))\n",
    "print(\"{0:.2%} are inhibitory. (from nucleus table)\".format(len(nuc_d_class[1])/total_nuc))"
   ]
  },
  {
   "cell_type": "code",
   "execution_count": null,
   "id": "9a93c709-1864-4b88-9cf9-adb3ef7bb3c7",
   "metadata": {},
   "outputs": [],
   "source": [
    "fig, ax = plt.subplots(2,1)\n",
    "fig.set_size_inches(18,10)\n",
    "\n",
    "ax[0].hist(slant_d_class[0], 200, density=False, label='Excitatory', alpha=.7)\n",
    "ax[0].hist(slant_d_class[1], 100, density=False, label='Inhibitory', alpha=.7)\n",
    "ax[0].set_title(\"Euclidean Distance to Post-Synaptic Partners (Proofread)\", fontsize=16)\n",
    "ax[0].set_xlabel(r'$\\mu$m', fontsize=12)\n",
    "ax[0].legend()\n",
    "ax[0].grid()\n",
    "\n",
    "ax[1].hist(slant_r_class[0], 40, density=False, label='Excitatory', alpha=.7)\n",
    "ax[1].hist(slant_r_class[1], 20, density=False, label='Inhibitory', alpha=.7)\n",
    "ax[1].set_title(\"Radial Distance to Post-Synaptic Partners (Proofread)\", fontsize=16)\n",
    "ax[1].set_xlabel(r'$\\mu$m', fontsize=12)\n",
    "ax[1].legend()\n",
    "ax[1].grid()\n",
    "\n",
    "#ax[1].set_ylabel(\"Log Frequency\", fontsize=16)\n",
    "#ax[1].set_yscale('log')\n",
    "\n",
    "ax[0].set_xlim(-10,600)\n",
    "ax[1].set_xlim(-10,600)\n",
    "plt.show()"
   ]
  },
  {
   "cell_type": "code",
   "execution_count": null,
   "id": "042f3786-6fba-40c5-8651-4172cb923538",
   "metadata": {},
   "outputs": [],
   "source": [
    "fig, ax = plt.subplots(2,1)\n",
    "fig.set_size_inches(18,10)\n",
    "\n",
    "ax[0].hist(nuc_d_class[0], 100, label='Euclidean Distance', density=True, alpha=0.6)\n",
    "ax[0].hist(nuc_r_class[0], 80, label='Radial Distance', density=True, alpha=0.6)\n",
    "ax[0].set_title(\"Distance to Excitatory Post-Synaptic Partners (Un-Proofread)\", fontsize=20)\n",
    "ax[0].set_xlabel(r'$\\mu$m', fontsize=14)\n",
    "ax[0].legend()\n",
    "ax[0].grid()\n",
    "\n",
    "ax[1].hist(nuc_d_class[1], 80, label='Euchlidean Distance', density=True, alpha=0.6)\n",
    "ax[1].hist(nuc_r_class[1], 40, label='Radial Distance', density=True, alpha=0.6)\n",
    "ax[1].set_title(\"Distance to Inhibitory Post-Synaptic Partners (Un-Proofread)\", fontsize=20)\n",
    "ax[1].set_xlabel(r'$\\mu$m', fontsize=14)\n",
    "ax[1].legend()\n",
    "ax[1].grid()\n",
    "\n",
    "\n",
    "#ax.set_ylabel(\"Log Frequency\", fontsize=16)\n",
    "#plt.yscale('log')\n",
    "\n",
    "ax[0].set_xlim(-10,600)\n",
    "ax[1].set_xlim(-10,600)\n",
    "plt.show()"
   ]
  },
  {
   "cell_type": "code",
   "execution_count": null,
   "id": "95e5b47b-ccfb-4503-bb6b-a12fa5b9f6d2",
   "metadata": {},
   "outputs": [],
   "source": [
    "fig, ax = plt.subplots(5,2)\n",
    "fig.set_size_inches(23,18)\n",
    "\n",
    "nuc_types = np.unique(post_nuclei.cell_type)\n",
    "for i in range(10):\n",
    "    if i == 0:\n",
    "        bins = int(np.ceil(len(nuc_d_type[i])/30))\n",
    "        ax[i,0].hist(nuc_d_type[i],bins=bins,density=True,label='Euclidean Distance',alpha=0.6);\n",
    "        ax[i,0].hist(nuc_r_type[i],bins=bins,density=True,label='Radial Distance',alpha=0.6);\n",
    "        ax[i,0].set_title(nuc_types[i],fontsize=18)\n",
    "        ax[i,0].grid()\n",
    "        ax[i,0].legend()\n",
    "        ax[i,0].set_xlim(-10,600)\n",
    "    if 1 <= i < 5:\n",
    "        bins = int(np.ceil(len(nuc_d_type[i])/5))\n",
    "        ax[i,0].hist(nuc_d_type[i],bins=bins,density=True,label='Euclidean Distance',alpha=0.6);\n",
    "        ax[i,0].hist(nuc_r_type[i],bins=bins,density=True,label='Radial Distance',alpha=0.6);\n",
    "        ax[i,0].set_title(nuc_types[i],fontsize=18)\n",
    "        ax[i,0].grid()\n",
    "        ax[i,0].legend()\n",
    "        ax[i,0].set_xlim(-10,600)\n",
    "    if 5 <= i < 10:\n",
    "        bins = int(np.ceil(len(nuc_d_type[i])/5))\n",
    "        ax[i-5,1].hist(nuc_d_type[i],bins=bins,density=True,label='Euchlidean Distance',alpha=0.6);\n",
    "        ax[i-5,1].hist(nuc_r_type[i],bins=bins,density=True,label='Radial Distance',alpha=0.6);\n",
    "        ax[i-5,1].set_title(nuc_types[i],fontsize=18)\n",
    "        ax[i-5,1].grid()\n",
    "        ax[i-5,1].legend()\n",
    "        ax[i-5,1].set_xlim(-10,600)\n",
    "\n",
    "fig.tight_layout()\n",
    "plt.show()"
   ]
  },
  {
   "cell_type": "code",
   "execution_count": null,
   "id": "6f3d8a92-b019-464d-a6b2-daa975aff320",
   "metadata": {},
   "outputs": [],
   "source": []
  },
  {
   "cell_type": "code",
   "execution_count": null,
   "id": "4e278aaa-d1ce-41e1-98a2-0b638f44770d",
   "metadata": {},
   "outputs": [],
   "source": []
  },
  {
   "cell_type": "code",
   "execution_count": null,
   "id": "924a2a01-702d-421d-ad65-981d1e012a14",
   "metadata": {},
   "outputs": [],
   "source": []
  }
 ],
 "metadata": {
  "kernelspec": {
   "display_name": "Python 3 (ipykernel)",
   "language": "python",
   "name": "python3"
  },
  "language_info": {
   "codemirror_mode": {
    "name": "ipython",
    "version": 3
   },
   "file_extension": ".py",
   "mimetype": "text/x-python",
   "name": "python",
   "nbconvert_exporter": "python",
   "pygments_lexer": "ipython3",
   "version": "3.11.9"
  }
 },
 "nbformat": 4,
 "nbformat_minor": 5
}
